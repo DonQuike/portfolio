{
 "cells": [
  {
   "cell_type": "code",
   "execution_count": null,
   "metadata": {},
   "outputs": [],
   "source": [
    "# Classification tree ML\n",
    "import pandas as pd\n",
    "import numpy as np\n",
    "from sklearn.tree import DecisionTreeClassifier\n",
    "from sklearn.preprocessing import LabelEncoder, OneHotEncoder\n",
    "from sklearn.compose import ColumnTransformer\n",
    "\n",
    "# Loads csv in a DataFrame\n",
    "df_train = pd.read_csv('training_set.csv')\n",
    "df_test = pd.read_csv('testing_set.csv')\n",
    "\n",
    "df_test1 = pd.read_csv('testing_set.csv')\n",
    "df_test1"
   ]
  },
  {
   "cell_type": "code",
   "execution_count": null,
   "metadata": {},
   "outputs": [],
   "source": [
    "# Selecting relevant data for train and test\n",
    "X_train = df_train.iloc[:, 2:-1].values\n",
    "X_test = df_test.iloc[:, 2:].values\n",
    "y_train = df_train['label'].values\n",
    "print(X_train)\n",
    "print(X_test)\n",
    "print(y_train)"
   ]
  },
  {
   "cell_type": "code",
   "execution_count": null,
   "metadata": {},
   "outputs": [],
   "source": [
    "# Identify the indices of string and numerical columns\n",
    "string_columns = [i for i, x in enumerate(X_train[0]) if isinstance(x, str)]\n",
    "numeric_columns = [i for i in range(X_train.shape[1]) if i not in string_columns]\n",
    "\n",
    "# Apply label encoding to string columns in training and test data\n",
    "label_encoder = LabelEncoder()\n",
    "\n",
    "for col in string_columns:\n",
    "    X_train[:, col] = label_encoder.fit_transform(X_train[:, col])\n",
    "    X_test[:, col] = label_encoder.transform(X_test[:, col])\n",
    "\n",
    "# Apply one-hot encoding to string columns and keep numeric columns intact\n",
    "ct = ColumnTransformer(\n",
    "    transformers=[('encoder', OneHotEncoder(), string_columns)],\n",
    "    remainder='passthrough'\n",
    ")\n",
    "\n",
    "X_train_encoded = ct.fit_transform(X_train)\n",
    "X_test_encoded = ct.transform(X_test)\n",
    "\n",
    "# Create an instance of the DecisionTreeClassifier\n",
    "clf = DecisionTreeClassifier()\n",
    "\n",
    "# Train the classifier on the encoded training dataset\n",
    "clf.fit(X_train_encoded, y_train)\n",
    "\n",
    "# Use the trained classifier to predict labels for the encoded test dataset\n",
    "predicted_labels = clf.predict(X_test_encoded)\n",
    "\n",
    "# Print the predicted labels\n",
    "print(predicted_labels)"
   ]
  },
  {
   "cell_type": "code",
   "execution_count": null,
   "metadata": {},
   "outputs": [],
   "source": [
    "# Append of Data test and pre\n",
    "total = np.append(X_test, predicted_labels)"
   ]
  },
  {
   "cell_type": "code",
   "execution_count": null,
   "metadata": {},
   "outputs": [],
   "source": [
    "# Predictions\n",
    "result_ml = X_test\n",
    "print(result_ml)\n",
    "print(type(result_ml))"
   ]
  },
  {
   "cell_type": "code",
   "execution_count": null,
   "metadata": {},
   "outputs": [],
   "source": [
    "# Creation of a DataFrame with predictions and colummn names back\n",
    "df_label = pd.DataFrame(predicted_labels, columns = ['label'])\n",
    "df_test = pd.DataFrame(result_ml, columns = ['gender','age','martial_status','location','products_count','monthly_count','mean_spending'])\n",
    "result_mle = df_test.join(df_label, on=None, how='left',)\n",
    "result_mle\n",
    "final_result = df_test1.join(result_mle, lsuffix = ' ', how='outer')\n",
    "final_result"
   ]
  },
  {
   "cell_type": "code",
   "execution_count": null,
   "metadata": {},
   "outputs": [],
   "source": [
    "# Creation of JSON file\n",
    "df_json = final_result.loc[:, ['test_idx', 'label']]  # Selecting the colummns for the JSON\n",
    "json = df_json.to_json(path_or_buf= 'predictions.json')"
   ]
  }
 ],
 "metadata": {
  "kernelspec": {
   "display_name": "myenv",
   "language": "python",
   "name": "python3"
  },
  "language_info": {
   "codemirror_mode": {
    "name": "ipython",
    "version": 3
   },
   "file_extension": ".py",
   "mimetype": "text/x-python",
   "name": "python",
   "nbconvert_exporter": "python",
   "pygments_lexer": "ipython3",
   "version": "3.7.16"
  },
  "orig_nbformat": 4
 },
 "nbformat": 4,
 "nbformat_minor": 2
}
